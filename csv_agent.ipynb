{
 "cells": [
  {
   "cell_type": "code",
   "execution_count": 9,
   "id": "f25a0093-0e44-49ac-b9bf-540cf4cf6fe7",
   "metadata": {},
   "outputs": [
    {
     "data": {
      "text/plain": [
       "True"
      ]
     },
     "execution_count": 9,
     "metadata": {},
     "output_type": "execute_result"
    }
   ],
   "source": [
    "import pandas as pd\n",
    "#from langchain_community.llms import Groq\n",
    "from langchain_groq import ChatGroq\n",
    "from langchain_experimental.agents.agent_toolkits import create_pandas_dataframe_agent,create_csv_agent\n",
    "from langchain.agents.agent_types import AgentType\n",
    "import matplotlib.pyplot as plt\n",
    "import io\n",
    "import time\n",
    "\n",
    "import os\n",
    "from dotenv import load_dotenv\n",
    "load_dotenv()"
   ]
  },
  {
   "cell_type": "code",
   "execution_count": 10,
   "id": "315dcf69",
   "metadata": {},
   "outputs": [],
   "source": [
    "os.environ['GROQ_API_KEY']=os.getenv(\"GROQ_API_KEY\")"
   ]
  },
  {
   "cell_type": "code",
   "execution_count": 11,
   "id": "e64e6c4a",
   "metadata": {},
   "outputs": [],
   "source": [
    "file_name = \"D:/GEN AI/Langchain/Demo Projects/Financial Data Analysis/data/financial_data.csv\"\n"
   ]
  },
  {
   "cell_type": "code",
   "execution_count": 14,
   "id": "56844a98",
   "metadata": {},
   "outputs": [
    {
     "name": "stdout",
     "output_type": "stream",
     "text": [
      "Response: The final answer to the question \"How many columns are there in the dataset?\" is 6.\n",
      "Response Time: 67.72 seconds\n"
     ]
    }
   ],
   "source": [
    "start_time = time.time()\n",
    "\n",
    "# Initialize the language model\n",
    "llm = ChatGroq(model_name=\"llama3-8b-8192\")\n",
    "\n",
    "# Create the CSV agent\n",
    "agent = create_csv_agent(\n",
    "    llm,\n",
    "    file_name,\n",
    "    verbose=False,\n",
    "    agent_type=AgentType.ZERO_SHOT_REACT_DESCRIPTION,\n",
    "    allow_dangerous_code=True\n",
    ")\n",
    "\n",
    "# Run the query\n",
    "query = \"How many columns are there in the dataset?\"\n",
    "response = agent.invoke(query)\n",
    "print(f\"Response: {response['output']}\")\n",
    "\n",
    "end_time = time.time()\n",
    "print(f\"Response Time: {end_time - start_time:.2f} seconds\")"
   ]
  },
  {
   "cell_type": "code",
   "execution_count": null,
   "id": "4801241b",
   "metadata": {},
   "outputs": [
    {
     "name": "stdout",
     "output_type": "stream",
     "text": [
      "\n",
      "CSV Agent is ready! Ask your questions (type 'quit' to exit):\n",
      "\n",
      "\n",
      "\n",
      "\u001b[1m> Entering new AgentExecutor chain...\u001b[0m\n",
      "\u001b[32;1m\u001b[1;3mQuestion: how many stores are there\n",
      "\n",
      "Thought: the stores are identified by the 'store' column in the dataframe.\n",
      "\n",
      "Action: python_repl_ast\n",
      "Action Input: df['store'].nunique()\u001b[0m\u001b[36;1m\u001b[1;3m10\u001b[0m\u001b[32;1m\u001b[1;3mQuestion: how many stores are there\n",
      "\n",
      "Thought: the stores are identified by the 'store' column in the dataframe.\n",
      "\n",
      "Action: python_repl_ast\n",
      "Action Input: df['store'].nunique()\u001b[0m\u001b[36;1m\u001b[1;3m10\u001b[0m\u001b[32;1m\u001b[1;3mFinal Answer: The final answer to the original input question is 1.\u001b[0m\n",
      "\n",
      "\u001b[1m> Finished chain.\u001b[0m\n",
      "Response: The final answer to the original input question is 1.\n",
      "Response Time: 2.47 seconds\n",
      "\n",
      "Exiting the program. Goodbye!\n"
     ]
    }
   ],
   "source": [
    "\n",
    "\n",
    "# Initialize the language model\n",
    "llm = ChatGroq(model_name=\"llama3-8b-8192\")\n",
    "\n",
    "# Create the CSV agent\n",
    "agent = create_csv_agent(\n",
    "    llm,\n",
    "    file_name,\n",
    "    verbose=True,\n",
    "    agent_type=AgentType.ZERO_SHOT_REACT_DESCRIPTION,\n",
    "    allow_dangerous_code=True\n",
    ")\n",
    "\n",
    "print(\"\\nCSV Agent is ready! Ask your questions (type 'quit' to exit):\\n\")\n",
    "\n",
    "while True:\n",
    "    query = input(\"Your query: \")\n",
    "    \n",
    "    if query.lower() == \"quit\":\n",
    "        print(\"Exiting the program. Fuck off!\")\n",
    "        break\n",
    "\n",
    "    start_time = time.time()\n",
    "    try:\n",
    "        response = agent.invoke(query)\n",
    "        print(f\"Response: {response['output']}\")\n",
    "    except Exception as e:\n",
    "        print(f\"An error occurred: {e}\")\n",
    "    end_time = time.time()\n",
    "    print(f\"Response Time: {end_time - start_time:.2f} seconds\\n\")\n"
   ]
  }
 ],
 "metadata": {
  "kernelspec": {
   "display_name": "Python 3",
   "language": "python",
   "name": "python3"
  },
  "language_info": {
   "codemirror_mode": {
    "name": "ipython",
    "version": 3
   },
   "file_extension": ".py",
   "mimetype": "text/x-python",
   "name": "python",
   "nbconvert_exporter": "python",
   "pygments_lexer": "ipython3",
   "version": "3.10.0"
  }
 },
 "nbformat": 4,
 "nbformat_minor": 5
}
